{
 "cells": [
  {
   "cell_type": "code",
   "execution_count": 34,
   "metadata": {
    "collapsed": true
   },
   "outputs": [],
   "source": []
  },
  {
   "cell_type": "code",
   "execution_count": 35,
   "metadata": {
    "pycharm": {
     "name": "#%%\n"
    }
   },
   "outputs": [],
   "source": [
    "import mesa\n",
    "from enum import Enum\n"
   ]
  },
  {
   "cell_type": "code",
   "execution_count": 72,
   "metadata": {
    "pycharm": {
     "name": "#%%\n"
    }
   },
   "outputs": [],
   "source": [
    "# Cleaning agent cleans the dirt agent using wealth variable.\n",
    "# When dirt agent is cleaned it will change its dirt to 0.\n",
    "# Agents do not collide.\n",
    "# Cleaning agents move randomly.\n",
    "Direction = Enum('Direction', ['UP', 'DOWN', 'LEFT', 'RIGHT','NONE'])\n",
    "AgentType = Enum('AgentType', ['ROAD', 'CAR', 'TS','TR','TL', 'X'])\n",
    "\n",
    "def right(direction, pos):\n",
    "    if direction == Direction.UP:\n",
    "        return pos.x +1, pos.y+1\n",
    "    \n",
    "    if direction == Direction.DOWN:\n",
    "        return pos.x -1, pos.y-1\n",
    "\n",
    "    if direction == Direction.LEFT:\n",
    "        return pos.x -1, pos.y+1\n",
    "\n",
    "    if direction == Direction.RIGHT:\n",
    "        return pos.x +1, pos.y-1\n",
    "\n",
    "\n",
    "def left(direction, pos):\n",
    "    if direction == Direction.UP:\n",
    "        return pos.x -1, pos.y+1\n",
    "    \n",
    "    if direction == Direction.DOWN:\n",
    "        return pos.x +1, pos.y-1\n",
    "\n",
    "    if direction == Direction.LEFT:\n",
    "        return pos.x -1, pos.y-1\n",
    "\n",
    "    if direction == Direction.RIGHT:\n",
    "        return pos.x +1, pos.y+1\n",
    "\n",
    "def front(direction, pos):\n",
    "    if direction == Direction.UP:\n",
    "        return pos.x, pos.y+2\n",
    "    \n",
    "    if direction == Direction.DOWN:\n",
    "        return pos.x, pos.y-2\n",
    "\n",
    "    if direction == Direction.LEFT:\n",
    "        return pos.x -2, pos.y\n",
    "\n",
    "    if direction == Direction.RIGHT:\n",
    "        return pos.x +2, pos.y\n",
    "    \n",
    "class RoadAgent(mesa.Agent):\n",
    "\n",
    "    def __init__(self, unique_id, model):\n",
    "        super().__init__(unique_id, model)\n",
    "        self.AgentType = AgentType.ROAD\n",
    "    def step(self):\n",
    "        pass\n",
    "    def advance(self):\n",
    "        pass\n",
    "class tJunctionSAgent(mesa.Agent):\n",
    "    pass\n",
    "\n",
    "class tJunctionRAgent(mesa.Agent):\n",
    "    pass\n",
    "\n",
    "class tJunctionLAgent(mesa.Agent):\n",
    "    pass\n",
    "\n",
    "class fourWayAgent(mesa.Agent):\n",
    "    def __init__(self, unique_id, model):\n",
    "        super().__init__(unique_id, model)\n",
    "        self.greenLeft = False\n",
    "        self.greenUp = True\n",
    "    def step(self):\n",
    "        counter += 1\n",
    "    def advance(self):\n",
    "        if counter == 5:\n",
    "            greenLeft = !greenLeft\n",
    "            greenUp = !greenUp\n",
    "            counter = 0\n",
    "    \n",
    "            \n",
    "class CarAgent(mesa.Agent):\n",
    "    def __init__(self, unique_id, model):\n",
    "        super().__init__(unique_id, model)\n",
    "        self.direction = Direction.NONE\n",
    "        self.desiredPos = (0,0)\n",
    "        self.nextPos = (0,0)\n",
    "        self.jPos = (0,0)\n",
    "    def move(self):\n",
    "        if self.direction == Direction.UP:\n",
    "            self.desiredPos = (self.pos[0],self.pos[1]+1)\n",
    "        if self.direction == Direction.DOWN:\n",
    "            self.desiredPos = (self.pos[0],self.pos[1]-1)\n",
    "\n",
    "        if self.direction == Direction.LEFT:\n",
    "            self.desiredPos = (self.pos[0]-1,self.pos[1])\n",
    "\n",
    "        if self.direction == Direction.RIGHT:\n",
    "             self.desiredPos = (self.pos[0]+1,self.pos[1])\n",
    "\n",
    "    def step(self):\n",
    "        move(self)\n",
    "        contents = self.model.gridRoad.get_cell_list_contents([self.desiredPos])\n",
    "        if len(contents) > 1:\n",
    "            self.nextPos = self.pos\n",
    "        elif isinstance(contents[0],fourWayAgent):\n",
    "            self.jPos = right(self.direction,self.pos)\n",
    "            if contents[0].greenUp and self.direction == Direction.UP:\n",
    "                self.nextPos = self.desiredPos\n",
    "                self.direction = Direction.RIGHT\n",
    "    def advance(self):\n",
    "        self.model.gridRoad.move_agent(self, new_position)\n",
    "        "
   ]
  },
  {
   "cell_type": "code",
   "execution_count": 73,
   "metadata": {},
   "outputs": [],
   "source": [
    "myMap = [[0, 1, 0, 0, 0, 0],\n",
    "           [0, 1, 0, 0, 0, 0],\n",
    "           [1, 4, 1, 1, 1, 1],\n",
    "           [0, 1, 0, 0, 0, 0]]"
   ]
  },
  {
   "cell_type": "code",
   "execution_count": 77,
   "metadata": {},
   "outputs": [],
   "source": [
    "class RoadModel(mesa.Model):\n",
    "    def __init__(self, roadMap):\n",
    "        #self.num_agents = numberOfCars\n",
    "        self.gridRoad = mesa.space.MultiGrid(len(roadMap), len(roadMap[0]), False)\n",
    "        self.schedule = mesa.time.SimultaneousActivation(self)\n",
    "        self.counter = 0\n",
    "        \n",
    "        # Create agents\n",
    "        for i in range(len(roadMap)):\n",
    "            for j in range(len(roadMap[i])):\n",
    "                if roadMap[i][j] == 1:\n",
    "                    agent = RoadAgent(self.counter, self)\n",
    "                    self.schedule.add(agent)\n",
    "                    self.counter +=1\n",
    "                    self.gridRoad.place_agent(agent,(i,j))\n",
    "                if roadMap[i][j] == 4:\n",
    "                    agent = fourWayAgent(self.counter, self)\n",
    "                    self.schedule.add(agent)\n",
    "                    self.counter +=1\n",
    "                    self.gridRoad.place_agent(agent,(i,j))                    \n",
    "        agent = CarAgent(self.counter, self)\n",
    "        agent.direction = Direction.UP\n",
    "        self.schedule.add(agent)\n",
    "        self.counter +=1\n",
    "        self.gridRoad.place_agent(agent,(3,1))\n",
    "        agent = CarAgent(self.counter, self)\n",
    "        agent.direction = Direction.RIGHT\n",
    "        self.schedule.add(agent)\n",
    "        self.counter +=1\n",
    "        self.gridRoad.place_agent(agent,(2,0))\n",
    "    def step(self):\n",
    "        self.schedule.step()"
   ]
  },
  {
   "cell_type": "code",
   "execution_count": 78,
   "metadata": {},
   "outputs": [
    {
     "name": "stdout",
     "output_type": "stream",
     "text": [
      "1\n"
     ]
    }
   ],
   "source": [
    "print(myMap[0][1])"
   ]
  },
  {
   "cell_type": "code",
   "execution_count": 83,
   "metadata": {},
   "outputs": [
    {
     "name": "stdout",
     "output_type": "stream",
     "text": [
      "Interface starting at http://127.0.0.1:8521\n"
     ]
    },
    {
     "ename": "RuntimeError",
     "evalue": "This event loop is already running",
     "output_type": "error",
     "traceback": [
      "\u001b[1;31m---------------------------------------------------------------------------\u001b[0m",
      "\u001b[1;31mRuntimeError\u001b[0m                              Traceback (most recent call last)",
      "Cell \u001b[1;32mIn [83], line 16\u001b[0m\n\u001b[0;32m     13\u001b[0m server \u001b[38;5;241m=\u001b[39m mesa\u001b[38;5;241m.\u001b[39mvisualization\u001b[38;5;241m.\u001b[39mModularServer(RoadModel, [grid], \u001b[38;5;124m\"\u001b[39m\u001b[38;5;124mMoney Model\u001b[39m\u001b[38;5;124m\"\u001b[39m, {\u001b[38;5;124m\"\u001b[39m\u001b[38;5;124mroadMap\u001b[39m\u001b[38;5;124m\"\u001b[39m: myMap})\n\u001b[0;32m     15\u001b[0m server\u001b[38;5;241m.\u001b[39mport \u001b[38;5;241m=\u001b[39m \u001b[38;5;241m8521\u001b[39m \u001b[38;5;66;03m# The default\u001b[39;00m\n\u001b[1;32m---> 16\u001b[0m \u001b[43mserver\u001b[49m\u001b[38;5;241;43m.\u001b[39;49m\u001b[43mlaunch\u001b[49m\u001b[43m(\u001b[49m\u001b[43m)\u001b[49m\n",
      "File \u001b[1;32m~\\Desktop\\pythonProject\\venv\\lib\\site-packages\\mesa\\visualization\\ModularVisualization.py:410\u001b[0m, in \u001b[0;36mModularServer.launch\u001b[1;34m(self, port, open_browser)\u001b[0m\n\u001b[0;32m    408\u001b[0m     webbrowser\u001b[38;5;241m.\u001b[39mopen(url)\n\u001b[0;32m    409\u001b[0m tornado\u001b[38;5;241m.\u001b[39mautoreload\u001b[38;5;241m.\u001b[39mstart()\n\u001b[1;32m--> 410\u001b[0m \u001b[43mtornado\u001b[49m\u001b[38;5;241;43m.\u001b[39;49m\u001b[43mioloop\u001b[49m\u001b[38;5;241;43m.\u001b[39;49m\u001b[43mIOLoop\u001b[49m\u001b[38;5;241;43m.\u001b[39;49m\u001b[43mcurrent\u001b[49m\u001b[43m(\u001b[49m\u001b[43m)\u001b[49m\u001b[38;5;241;43m.\u001b[39;49m\u001b[43mstart\u001b[49m\u001b[43m(\u001b[49m\u001b[43m)\u001b[49m\n",
      "File \u001b[1;32m~\\Desktop\\pythonProject\\venv\\lib\\site-packages\\tornado\\platform\\asyncio.py:215\u001b[0m, in \u001b[0;36mBaseAsyncIOLoop.start\u001b[1;34m(self)\u001b[0m\n\u001b[0;32m    213\u001b[0m \u001b[38;5;28;01mtry\u001b[39;00m:\n\u001b[0;32m    214\u001b[0m     asyncio\u001b[38;5;241m.\u001b[39mset_event_loop(\u001b[38;5;28mself\u001b[39m\u001b[38;5;241m.\u001b[39masyncio_loop)\n\u001b[1;32m--> 215\u001b[0m     \u001b[38;5;28;43mself\u001b[39;49m\u001b[38;5;241;43m.\u001b[39;49m\u001b[43masyncio_loop\u001b[49m\u001b[38;5;241;43m.\u001b[39;49m\u001b[43mrun_forever\u001b[49m\u001b[43m(\u001b[49m\u001b[43m)\u001b[49m\n\u001b[0;32m    216\u001b[0m \u001b[38;5;28;01mfinally\u001b[39;00m:\n\u001b[0;32m    217\u001b[0m     asyncio\u001b[38;5;241m.\u001b[39mset_event_loop(old_loop)\n",
      "File \u001b[1;32m~\\AppData\\Local\\Programs\\Python\\Python39\\lib\\asyncio\\base_events.py:586\u001b[0m, in \u001b[0;36mBaseEventLoop.run_forever\u001b[1;34m(self)\u001b[0m\n\u001b[0;32m    584\u001b[0m \u001b[38;5;124;03m\"\"\"Run until stop() is called.\"\"\"\u001b[39;00m\n\u001b[0;32m    585\u001b[0m \u001b[38;5;28mself\u001b[39m\u001b[38;5;241m.\u001b[39m_check_closed()\n\u001b[1;32m--> 586\u001b[0m \u001b[38;5;28;43mself\u001b[39;49m\u001b[38;5;241;43m.\u001b[39;49m\u001b[43m_check_running\u001b[49m\u001b[43m(\u001b[49m\u001b[43m)\u001b[49m\n\u001b[0;32m    587\u001b[0m \u001b[38;5;28mself\u001b[39m\u001b[38;5;241m.\u001b[39m_set_coroutine_origin_tracking(\u001b[38;5;28mself\u001b[39m\u001b[38;5;241m.\u001b[39m_debug)\n\u001b[0;32m    588\u001b[0m \u001b[38;5;28mself\u001b[39m\u001b[38;5;241m.\u001b[39m_thread_id \u001b[38;5;241m=\u001b[39m threading\u001b[38;5;241m.\u001b[39mget_ident()\n",
      "File \u001b[1;32m~\\AppData\\Local\\Programs\\Python\\Python39\\lib\\asyncio\\base_events.py:578\u001b[0m, in \u001b[0;36mBaseEventLoop._check_running\u001b[1;34m(self)\u001b[0m\n\u001b[0;32m    576\u001b[0m \u001b[38;5;28;01mdef\u001b[39;00m \u001b[38;5;21m_check_running\u001b[39m(\u001b[38;5;28mself\u001b[39m):\n\u001b[0;32m    577\u001b[0m     \u001b[38;5;28;01mif\u001b[39;00m \u001b[38;5;28mself\u001b[39m\u001b[38;5;241m.\u001b[39mis_running():\n\u001b[1;32m--> 578\u001b[0m         \u001b[38;5;28;01mraise\u001b[39;00m \u001b[38;5;167;01mRuntimeError\u001b[39;00m(\u001b[38;5;124m'\u001b[39m\u001b[38;5;124mThis event loop is already running\u001b[39m\u001b[38;5;124m'\u001b[39m)\n\u001b[0;32m    579\u001b[0m     \u001b[38;5;28;01mif\u001b[39;00m events\u001b[38;5;241m.\u001b[39m_get_running_loop() \u001b[38;5;129;01mis\u001b[39;00m \u001b[38;5;129;01mnot\u001b[39;00m \u001b[38;5;28;01mNone\u001b[39;00m:\n\u001b[0;32m    580\u001b[0m         \u001b[38;5;28;01mraise\u001b[39;00m \u001b[38;5;167;01mRuntimeError\u001b[39;00m(\n\u001b[0;32m    581\u001b[0m             \u001b[38;5;124m'\u001b[39m\u001b[38;5;124mCannot run the event loop while another loop is running\u001b[39m\u001b[38;5;124m'\u001b[39m)\n",
      "\u001b[1;31mRuntimeError\u001b[0m: This event loop is already running"
     ]
    },
    {
     "name": "stdout",
     "output_type": "stream",
     "text": [
      "Socket opened!\n",
      "{\"type\":\"reset\"}\n",
      "Socket opened!\n",
      "{\"type\":\"reset\"}\n"
     ]
    }
   ],
   "source": [
    "import mesa\n",
    "\n",
    "\n",
    "def agent_portrayal(agent):\n",
    "    portrayal = {\"Shape\": \"circle\",\n",
    "                 \"Filled\": \"true\",\n",
    "                 \"Layer\": 0,\n",
    "                 \"Color\": \"red\",\n",
    "                 \"r\": 0.5}\n",
    "    return portrayal\n",
    "\n",
    "grid = mesa.visualization.CanvasGrid(agent_portrayal, 10, 10, 500, 500)\n",
    "server = mesa.visualization.ModularServer(RoadModel, [grid], \"Money Model\", {\"roadMap\": myMap})\n",
    "\n",
    "server.port = 8521 # The default\n",
    "server.launch()"
   ]
  },
  {
   "cell_type": "code",
   "execution_count": null,
   "metadata": {},
   "outputs": [],
   "source": []
  },
  {
   "cell_type": "code",
   "execution_count": null,
   "metadata": {},
   "outputs": [],
   "source": []
  }
 ],
 "metadata": {
  "kernelspec": {
   "display_name": "Python 3 (ipykernel)",
   "language": "python",
   "name": "python3"
  },
  "language_info": {
   "codemirror_mode": {
    "name": "ipython",
    "version": 3
   },
   "file_extension": ".py",
   "mimetype": "text/x-python",
   "name": "python",
   "nbconvert_exporter": "python",
   "pygments_lexer": "ipython3",
   "version": "3.9.0"
  }
 },
 "nbformat": 4,
 "nbformat_minor": 1
}
