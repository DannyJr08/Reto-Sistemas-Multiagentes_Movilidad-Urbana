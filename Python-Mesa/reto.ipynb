{
 "cells": [
  {
   "cell_type": "code",
   "execution_count": null,
   "metadata": {},
   "outputs": [],
   "source": [
    "# Server-side for multiagent simulation for Evidence2 for the subject Modeling of Multi-Agent Systems with Computer Graphics\n",
    "# Made by Přemysl Pilař - A01760915\n",
    "# This program simulates traffic using Mesa module in Python\n",
    "# There is simple square map 9x9 and one traffic light"
   ]
  },
  {
   "cell_type": "code",
   "execution_count": 1,
   "metadata": {
    "pycharm": {
     "name": "#%%\n"
    }
   },
   "outputs": [],
   "source": [
    "import mesa\n",
    "import numpy as np\n",
    "from enum import Enum\n"
   ]
  },
  {
   "cell_type": "code",
   "execution_count": 69,
   "metadata": {},
   "outputs": [],
   "source": [
    "# Map and agents position and directions for model\n",
    "# There is switcheroo in coordinates\n",
    "'''\n",
    "Python Array\n",
    "00 01 02\n",
    "10 11 12\n",
    "20 21 22\n",
    "\n",
    "Mesa Grid\n",
    "02 12 22\n",
    "01 11 21\n",
    "00 10 20\n",
    "\n",
    "We perform left rotation for the array\n",
    "'''\n",
    "myMap =   [[3, 1, 1, 1, 3, 1, 1, 1, 2],\n",
    "           [1, 0, 0, 0, 1, 0, 0, 0, 1],\n",
    "           [1, 0, 0, 0, 1, 0, 0, 0, 1],\n",
    "           [1, 0, 0, 0, 1, 0, 0, 0, 1],\n",
    "           [3, 1, 1, 1, 4, 1, 1, 1, 2],\n",
    "           [1, 0, 0, 0, 1, 0, 0, 0, 1],\n",
    "           [1, 0, 0, 0, 1, 0, 0, 0, 1],\n",
    "           [1, 0, 0, 0, 1, 0, 0, 0, 1],\n",
    "           [3, 1, 1, 1, 2, 1, 1, 1, 2]]\n",
    "\n",
    "\n",
    "agentsPositions = [[4,0,Direction.UP],\n",
    "                   [4,1,Direction.UP],\n",
    "                   [4,2,Direction.UP],\n",
    "                   [4,3,Direction.UP]]"
   ]
  },
  {
   "cell_type": "code",
   "execution_count": 68,
   "metadata": {
    "pycharm": {
     "name": "#%%\n"
    }
   },
   "outputs": [],
   "source": [
    "\n",
    "Direction = Enum('Direction', ['UP', 'DOWN', 'LEFT', 'RIGHT','NONE'])\n",
    "\n",
    "# Determines where is right based on current direction\n",
    "def right(direction):\n",
    "    if direction == Direction.UP:\n",
    "        return Direction.RIGHT\n",
    "    \n",
    "    if direction == Direction.DOWN:\n",
    "        return Direction.LEFT\n",
    "\n",
    "    if direction == Direction.LEFT:\n",
    "        return Direction.UP\n",
    "\n",
    "    if direction == Direction.RIGHT:\n",
    "        return Direction.DOWN\n",
    "\n",
    "# Determines where is left based on current direction\n",
    "def left(direction):\n",
    "    if direction == Direction.UP:\n",
    "        return Direction.LEFT\n",
    "    \n",
    "    if direction == Direction.DOWN:\n",
    "        return Direction.RIGHT\n",
    "\n",
    "    if direction == Direction.LEFT:\n",
    "        return Direction.DOWN\n",
    "\n",
    "    if direction == Direction.RIGHT:\n",
    "        return Direction.UP\n",
    "\n",
    "# Determines new direction based on random choice made when agent could not encounter any further road ahead.\n",
    "# Deprecated in our model but for random based choices I left it here\n",
    "def findDir(currPos, desPos):\n",
    "    res = np.subtract(currPos,desPos)\n",
    "    if np.array_equal(res, (0,1)):\n",
    "        return Direction.DOWN\n",
    "    \n",
    "    if np.array_equal(res, (0,-1)):\n",
    "        return Direction.UP\n",
    "    \n",
    "    if np.array_equal(res, (1,0)):\n",
    "        return Direction.LEFT\n",
    "    \n",
    "    if np.array_equal(res, (-1,0)):\n",
    "        return Direction.RIGHT    \n",
    "\n",
    "    \n",
    "# Agent that represents road it has only position it holds in the grid   \n",
    "class RoadAgent(mesa.Agent):\n",
    "    def __init__(self, unique_id, model):\n",
    "        super().__init__(unique_id, model)\n",
    "        self.AgentType = AgentType.ROAD\n",
    "        \n",
    "    def step(self):\n",
    "        pass\n",
    "    \n",
    "    def advance(self):\n",
    "        pass\n",
    "    \n",
    "    \n",
    "# Agent that represents left turn in our model, it has only position it holds in the grid   \n",
    "class LeftAgent(mesa.Agent):\n",
    "    def __init__(self, unique_id, model):\n",
    "        super().__init__(unique_id, model)\n",
    "    def step(self):\n",
    "        pass\n",
    "    def advance(self):\n",
    "        pass\n",
    "    \n",
    "    \n",
    "# Agent that represents right turn in our model, it has only position it holds in the grid      \n",
    "class RightAgent(mesa.Agent):\n",
    "    def __init__(self, unique_id, model):\n",
    "        super().__init__(unique_id, model)\n",
    "    def step(self):\n",
    "        pass\n",
    "    def advance(self):\n",
    "        pass\n",
    "       \n",
    "        \n",
    "# Agent that represents intersection in our model, it supports only one ways and straight movement\n",
    "class FourWayAgent(mesa.Agent):\n",
    "    def __init__(self, unique_id, model):\n",
    "        super().__init__(unique_id, model)\n",
    "        self.greenLeft = False\n",
    "        self.greenUp = True\n",
    "        self.counter = 0\n",
    "    # During step it counts ticks and changes every few ticks and there is no space in between.\n",
    "    # Also traffic lights go first in simulation so it does not change between step and advance for other agents\n",
    "    def step(self):\n",
    "        self.counter +=1\n",
    "        if self.counter == 2:\n",
    "            if self.greenLeft:\n",
    "                self.greenLeft = False\n",
    "            else: \n",
    "                self.greenLeft = True\n",
    "            if self.greenUp:\n",
    "                self.greenUp = False\n",
    "            else:\n",
    "                self.greenUp = True\n",
    "            self.counter = 0\n",
    "\n",
    "    def advance(self):\n",
    "        pass\n",
    "    \n",
    "    \n",
    "\n",
    "# Represents car in our model. It contains baseline members and direction which it is currently going, desired position\n",
    "# which is position where it wants to go, next position is the actual position it will take next tick and it can remain\n",
    "# in the place and waitID which is ID of agent that is blocking the path.\n",
    "class CarAgent(mesa.Agent):\n",
    "    def __init__(self, unique_id, model):\n",
    "        super().__init__(unique_id, model)\n",
    "        self.direction = Direction.NONE\n",
    "        self.desiredPos = (0,0)\n",
    "        self.nextPos = (0,0)\n",
    "        self.waitID = -1\n",
    "        \n",
    "# Based on current direction it evaluates desired position        \n",
    "    def move(self):\n",
    "        self.waitingID = -1\n",
    "        if self.direction == Direction.UP:\n",
    "            self.desiredPos = (self.pos[0],self.pos[1]+1)\n",
    "        if self.direction == Direction.DOWN:\n",
    "            self.desiredPos = (self.pos[0],self.pos[1]-1)\n",
    "\n",
    "        if self.direction == Direction.LEFT:\n",
    "            self.desiredPos = (self.pos[0]-1,self.pos[1])\n",
    "\n",
    "        if self.direction == Direction.RIGHT:\n",
    "             self.desiredPos = (self.pos[0]+1,self.pos[1])\n",
    "                \n",
    "# When agent encounters traffic lights it needs to behave correctly, either stop or go                \n",
    "    def lights(self,agent):\n",
    "            if agent.greenUp and (self.direction == Direction.UP or self.direction == Direction.DOWN):\n",
    "                self.nextPos = self.desiredPos\n",
    "            elif agent.greenLeft and (self.direction == Direction.LEFT or self.direction == Direction.RIGHT):\n",
    "                self.nextPos = self.desiredPos\n",
    "            else:\n",
    "                self.waitingID = agent.unique_id\n",
    "                self.nextPos = self.pos\n",
    "                \n",
    "    # Agent can also encounter a traffic jam and here it needs to know what is the first thing blocking it path and what is\n",
    "    # the last thing. If there is car before it technically is blocking its path but if it is moving it does not.\n",
    "    # If there is traffic jam then we need to look maybe many cars ahead to find if there is traffic light.\n",
    "    def stop(self):\n",
    "        if self.waitingID == -1:\n",
    "            self.nextPos = self.desiredPos\n",
    "        # Using sort of linked list we find the traffic light or the first car in the jam.\n",
    "        # If it is light we determine if we are going next step or if we are staying and for car we go.\n",
    "        else:\n",
    "            lastCarDir = self.direction\n",
    "            lastAgent = model.schedule.agents[self.waitingID]\n",
    "            while not isinstance(lastAgent, FourWayAgent) and lastAgent.waitingID != -1:\n",
    "                lastCarDir = lastAgent.direction\n",
    "                lastAgent = model.schedule.agents[lastAgent.waitingID]\n",
    "                \n",
    "            if isinstance(lastAgent, FourWayAgent):\n",
    "                if lastAgent.greenUp and (lastCarDir == Direction.UP or lastCarDir == Direction.DOWN):\n",
    "                    self.nextPos = self.desiredPos\n",
    "                elif lastAgent.greenLeft and (lastCarDir == Direction.LEFT or lastCarDir == Direction.RIGHT):\n",
    "                    self.nextPos = self.desiredPos      \n",
    "                else:\n",
    "                    self.nextPos = self.pos   \n",
    "                    \n",
    "            else:\n",
    "                self.nextPos = self.desiredPos\n",
    "          \n",
    "    # Finding another direction which has road connected to current tile.\n",
    "    # Deprecated in our model\n",
    "    def noStraight(self):\n",
    "        neighbors = self.model.gridRoad.get_neighborhood(self.pos, moore = False)\n",
    "        for i in neighbors:\n",
    "            cont = self.model.gridRoad.get_cell_list_contents([i])\n",
    "            if len(cont) == 0:\n",
    "                continue\n",
    "            for j in cont:\n",
    "                if isinstance(j,RoadAgent):\n",
    "                    self.desiredPos = i\n",
    "                    self.direction = findDir(self.pos,i)\n",
    "                    self.nextPos = self.desiredPos\n",
    "\n",
    "                    break\n",
    "                elif isinstance(j,FourWayAgent):\n",
    "                    self.desiredPos = i\n",
    "                    self.direction = findDir(self.pos,i)\n",
    "                    self.lights(j)\n",
    "                    break        \n",
    "    \n",
    "    # Step function, gets desired position, checks what is there and based on that it sets next move with methods above                \n",
    "    def step(self):\n",
    "        self.move()\n",
    "        if self.model.gridRoad.out_of_bounds(self.desiredPos):\n",
    "            self.noStraight()\n",
    "            \n",
    "        contents = self.model.gridRoad.get_cell_list_contents([self.desiredPos])\n",
    "        carIndex = 1\n",
    "        if len(contents) == 0:\n",
    "            self.noStraight()\n",
    "        elif len(contents) > 1:\n",
    "            if isinstance(contents[0],CarAgent):\n",
    "                self.waitingID = contents[0].unique_id\n",
    "                carIndex = 0\n",
    "            elif isinstance(contents[1],CarAgent):\n",
    "                self.waitingID = contents[1].unique_id\n",
    "                carIndex = 1\n",
    "        \n",
    "        if isinstance(contents[1-carIndex],FourWayAgent):\n",
    "            self.lights(contents[1-carIndex])\n",
    "        elif isinstance(contents[1-carIndex],LeftAgent):\n",
    "            self.direction = left(self.direction)\n",
    "            self.nextPos = self.desiredPos\n",
    "\n",
    "        elif isinstance(contents[1-carIndex],RightAgent):\n",
    "            self.direction = right(self.direction)\n",
    "            self.nextPos = self.desiredPos\n",
    "\n",
    "        else:\n",
    "            self.nextPos = self.desiredPos\n",
    "            \n",
    "    # Stop function is called in \"advance\" so every car had already found what is it waiting for\n",
    "    def advance(self):\n",
    "        self.stop()\n",
    "        self.model.gridRoad.move_agent(self, self.nextPos)\n",
    "        "
   ]
  },
  {
   "cell_type": "code",
   "execution_count": 70,
   "metadata": {},
   "outputs": [],
   "source": [
    "# Initialization of RoadModel, it accepts the map as 2D array and positions and directions of cars as 2D array\n",
    "# It cointains MultiGrid so multiple agents can be in same cell and Simultaneous activation that prepares the tick\n",
    "# by first calling step and after that it will call advance.\n",
    "class RoadModel(mesa.Model):\n",
    "    def __init__(self, roadMap, carPos):\n",
    "        self.gridRoad = mesa.space.MultiGrid(len(roadMap), len(roadMap[0]), False)\n",
    "        self.schedule = mesa.time.SimultaneousActivation(self)\n",
    "        self.counter = 0\n",
    "        for i in range(len(roadMap)):\n",
    "            for j in range(len(roadMap[i])):\n",
    "                # Make the traffic light first so it is called in scheduler first and does not change between phases\n",
    "                # ID is 0\n",
    "                if roadMap[i][j] == 4:\n",
    "                    agent = FourWayAgent(self.counter, self)\n",
    "                    self.schedule.add(agent)\n",
    "                    self.counter +=1\n",
    "                    self.gridRoad.place_agent(agent,(i,j))                    \n",
    "       \n",
    "        # Create cars, IDs starts with 1\n",
    "        for i in range(len(carPos)):\n",
    "            agent = CarAgent(self.counter,self)\n",
    "            agent.direction = carPos[i][2]\n",
    "            self.schedule.add(agent)\n",
    "            self.counter +=1\n",
    "            self.gridRoad.place_agent(agent,(carPos[i][0],carPos[i][1]))\n",
    "        # Load map\n",
    "        for i in range(len(roadMap)):\n",
    "            for j in range(len(roadMap[i])):\n",
    "                if roadMap[i][j] == 1:\n",
    "                    agent = RoadAgent(self.counter, self)\n",
    "                    self.schedule.add(agent)\n",
    "                    self.counter +=1\n",
    "                    self.gridRoad.place_agent(agent,(i,j))                   \n",
    "                if roadMap[i][j] == 2:\n",
    "                    agent = LeftAgent(self.counter, self)\n",
    "                    self.schedule.add(agent)\n",
    "                    self.counter +=1\n",
    "                    self.gridRoad.place_agent(agent,(i,j))                    \n",
    "                if roadMap[i][j] == 3:\n",
    "                    agent = RightAgent(self.counter, self)\n",
    "                    self.schedule.add(agent)\n",
    "                    self.counter +=1\n",
    "                    self.gridRoad.place_agent(agent,(i,j))  \n",
    "                    \n",
    "    def step(self):\n",
    "        self.schedule.step()"
   ]
  },
  {
   "cell_type": "code",
   "execution_count": 72,
   "metadata": {},
   "outputs": [],
   "source": [
    "model = RoadModel(myMap,agentsPositions)"
   ]
  },
  {
   "cell_type": "code",
   "execution_count": 74,
   "metadata": {
    "scrolled": true
   },
   "outputs": [],
   "source": [
    "model.step()"
   ]
  },
  {
   "cell_type": "code",
   "execution_count": 66,
   "metadata": {
    "scrolled": false
   },
   "outputs": [
    {
     "data": {
      "text/plain": [
       "[[<__main__.RightAgent at 0x246fa2db220>],\n",
       " [<__main__.RoadAgent at 0x246fa2db6a0>],\n",
       " [<__main__.RoadAgent at 0x246fa2db340>],\n",
       " [<__main__.RoadAgent at 0x246fa2db4f0>],\n",
       " [<__main__.RightAgent at 0x246fa2db040>],\n",
       " [<__main__.RoadAgent at 0x246fa2db580>],\n",
       " [<__main__.RoadAgent at 0x246fa2db520>],\n",
       " [<__main__.RoadAgent at 0x246fa2db100>],\n",
       " [<__main__.LeftAgent at 0x246fa2db130>, <__main__.CarAgent at 0x246fa2db940>]]"
      ]
     },
     "metadata": {},
     "output_type": "display_data"
    },
    {
     "data": {
      "text/plain": [
       "[[<__main__.RoadAgent at 0x246fa2dbf70>],\n",
       " [],\n",
       " [],\n",
       " [],\n",
       " [<__main__.RoadAgent at 0x246fa2db490>],\n",
       " [],\n",
       " [],\n",
       " [],\n",
       " [<__main__.RoadAgent at 0x246fa2db970>]]"
      ]
     },
     "metadata": {},
     "output_type": "display_data"
    },
    {
     "data": {
      "text/plain": [
       "[[<__main__.RoadAgent at 0x246fa2db1f0>],\n",
       " [],\n",
       " [],\n",
       " [],\n",
       " [<__main__.RoadAgent at 0x246fa2db8e0>],\n",
       " [],\n",
       " [],\n",
       " [],\n",
       " [<__main__.RoadAgent at 0x246fa2db5b0>]]"
      ]
     },
     "metadata": {},
     "output_type": "display_data"
    },
    {
     "data": {
      "text/plain": [
       "[[<__main__.RoadAgent at 0x246fa2db070>],\n",
       " [],\n",
       " [],\n",
       " [],\n",
       " [<__main__.RoadAgent at 0x246fa2db850>],\n",
       " [],\n",
       " [],\n",
       " [],\n",
       " [<__main__.RoadAgent at 0x246fa2dba60>, <__main__.CarAgent at 0x246fa2db820>]]"
      ]
     },
     "metadata": {},
     "output_type": "display_data"
    },
    {
     "data": {
      "text/plain": [
       "[[<__main__.RightAgent at 0x246fa2db7f0>],\n",
       " [<__main__.RoadAgent at 0x246fa2db790>],\n",
       " [<__main__.RoadAgent at 0x246fa2db9d0>],\n",
       " [<__main__.RoadAgent at 0x246fa2db550>],\n",
       " [<__main__.fourWayAgent at 0x246fa2da970>],\n",
       " [<__main__.RoadAgent at 0x246fa2db3a0>, <__main__.CarAgent at 0x246fa2da4c0>],\n",
       " [<__main__.RoadAgent at 0x246fa3323a0>],\n",
       " [<__main__.RoadAgent at 0x246fa332fa0>],\n",
       " [<__main__.LeftAgent at 0x246fa332fd0>, <__main__.CarAgent at 0x246fa2dadc0>]]"
      ]
     },
     "metadata": {},
     "output_type": "display_data"
    },
    {
     "data": {
      "text/plain": [
       "[[<__main__.RoadAgent at 0x246fa332220>],\n",
       " [],\n",
       " [],\n",
       " [],\n",
       " [<__main__.RoadAgent at 0x246fa332d00>],\n",
       " [],\n",
       " [],\n",
       " [],\n",
       " [<__main__.RoadAgent at 0x246fa332610>]]"
      ]
     },
     "metadata": {},
     "output_type": "display_data"
    },
    {
     "data": {
      "text/plain": [
       "[[<__main__.RoadAgent at 0x246fa332e80>],\n",
       " [],\n",
       " [],\n",
       " [],\n",
       " [<__main__.RoadAgent at 0x246fa332d90>],\n",
       " [],\n",
       " [],\n",
       " [],\n",
       " [<__main__.RoadAgent at 0x246fa332e20>]]"
      ]
     },
     "metadata": {},
     "output_type": "display_data"
    },
    {
     "data": {
      "text/plain": [
       "[[<__main__.RoadAgent at 0x246fa332a00>],\n",
       " [],\n",
       " [],\n",
       " [],\n",
       " [<__main__.RoadAgent at 0x246fa332910>],\n",
       " [],\n",
       " [],\n",
       " [],\n",
       " [<__main__.RoadAgent at 0x246fa3322b0>]]"
      ]
     },
     "metadata": {},
     "output_type": "display_data"
    },
    {
     "data": {
      "text/plain": [
       "[[<__main__.RightAgent at 0x246fa332880>],\n",
       " [<__main__.RoadAgent at 0x246fa332460>],\n",
       " [<__main__.RoadAgent at 0x246fa332490>],\n",
       " [<__main__.RoadAgent at 0x246fa332520>],\n",
       " [<__main__.LeftAgent at 0x246fa332b80>],\n",
       " [<__main__.RoadAgent at 0x246fa332700>],\n",
       " [<__main__.RoadAgent at 0x246fa332730>],\n",
       " [<__main__.RoadAgent at 0x246fa332bb0>],\n",
       " [<__main__.LeftAgent at 0x246fa332be0>]]"
      ]
     },
     "metadata": {},
     "output_type": "display_data"
    }
   ],
   "source": [
    "# Mesa visualization failed me so I improvised\n",
    "for i in range(9):\n",
    "    display(model.gridRoad[i])"
   ]
  },
  {
   "cell_type": "code",
   "execution_count": null,
   "metadata": {},
   "outputs": [],
   "source": []
  }
 ],
 "metadata": {
  "kernelspec": {
   "display_name": "Python 3 (ipykernel)",
   "language": "python",
   "name": "python3"
  },
  "language_info": {
   "codemirror_mode": {
    "name": "ipython",
    "version": 3
   },
   "file_extension": ".py",
   "mimetype": "text/x-python",
   "name": "python",
   "nbconvert_exporter": "python",
   "pygments_lexer": "ipython3",
   "version": "3.9.0"
  }
 },
 "nbformat": 4,
 "nbformat_minor": 1
}
