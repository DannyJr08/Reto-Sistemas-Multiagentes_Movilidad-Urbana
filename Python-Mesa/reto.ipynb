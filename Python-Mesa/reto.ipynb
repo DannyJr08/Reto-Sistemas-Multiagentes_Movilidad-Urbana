{
 "cells": [
  {
   "cell_type": "code",
   "execution_count": 34,
   "metadata": {
    "collapsed": true
   },
   "outputs": [],
   "source": []
  },
  {
   "cell_type": "code",
   "execution_count": 135,
   "metadata": {
    "pycharm": {
     "name": "#%%\n"
    }
   },
   "outputs": [],
   "source": [
    "import mesa\n",
    "import numpy as np\n",
    "from enum import Enum\n"
   ]
  },
  {
   "cell_type": "code",
   "execution_count": 788,
   "metadata": {
    "pycharm": {
     "name": "#%%\n"
    }
   },
   "outputs": [],
   "source": [
    "# Cleaning agent cleans the dirt agent using wealth variable.\n",
    "# When dirt agent is cleaned it will change its dirt to 0.\n",
    "# Agents do not collide.\n",
    "# Cleaning agents move randomly.\n",
    "Direction = Enum('Direction', ['UP', 'DOWN', 'LEFT', 'RIGHT','NONE'])\n",
    "AgentType = Enum('AgentType', ['ROAD', 'CAR', 'TS','TR','TL', 'X'])\n",
    "\n",
    "def right(direction, pos):\n",
    "    if direction == Direction.UP:\n",
    "        return pos.x +1, pos.y+1\n",
    "    \n",
    "    if direction == Direction.DOWN:\n",
    "        return pos.x -1, pos.y-1\n",
    "\n",
    "    if direction == Direction.LEFT:\n",
    "        return pos.x -1, pos.y+1\n",
    "\n",
    "    if direction == Direction.RIGHT:\n",
    "        return pos.x +1, pos.y-1\n",
    "\n",
    "\n",
    "def left(direction, pos):\n",
    "    if direction == Direction.UP:\n",
    "        return pos.x -1, pos.y+1\n",
    "    \n",
    "    if direction == Direction.DOWN:\n",
    "        return pos.x +1, pos.y-1\n",
    "\n",
    "    if direction == Direction.LEFT:\n",
    "        return pos.x -1, pos.y-1\n",
    "\n",
    "    if direction == Direction.RIGHT:\n",
    "        return pos.x +1, pos.y+1\n",
    "\n",
    "def front(direction, pos):\n",
    "    if direction == Direction.UP:\n",
    "        return pos.x, pos.y+2\n",
    "    \n",
    "    if direction == Direction.DOWN:\n",
    "        return pos.x, pos.y-2\n",
    "\n",
    "    if direction == Direction.LEFT:\n",
    "        return pos.x -2, pos.y\n",
    "\n",
    "    if direction == Direction.RIGHT:\n",
    "        return pos.x +2, pos.y\n",
    "    \n",
    "class RoadAgent(mesa.Agent):\n",
    "\n",
    "    def __init__(self, unique_id, model):\n",
    "        super().__init__(unique_id, model)\n",
    "        self.AgentType = AgentType.ROAD\n",
    "    def step(self):\n",
    "        pass\n",
    "    def advance(self):\n",
    "        pass\n",
    "class tJunctionSAgent(mesa.Agent):\n",
    "    pass\n",
    "\n",
    "class tJunctionRAgent(mesa.Agent):\n",
    "    pass\n",
    "\n",
    "class tJunctionLAgent(mesa.Agent):\n",
    "    pass\n",
    "\n",
    "class fourWayAgent(mesa.Agent):\n",
    "    def __init__(self, unique_id, model):\n",
    "        super().__init__(unique_id, model)\n",
    "        self.greenLeft = False\n",
    "        self.greenUp = True\n",
    "        self.counter = 0\n",
    "    def step(self):\n",
    "        self.counter += 1\n",
    "    def advance(self):\n",
    "        print(self.counter)\n",
    "        if self.counter == 2:\n",
    "            if self.greenLeft:\n",
    "                self.greenLeft = False\n",
    "            else: \n",
    "                self.greenLeft = True\n",
    "            if self.greenUp:\n",
    "                self.greenUp = False\n",
    "            else:\n",
    "                self.greenUp = True\n",
    "            self.counter = 0\n",
    "        if self.greenLeft:\n",
    "            print('LEFT')\n",
    "        else:\n",
    "            print('UP')\n",
    "def findDir(currPos, desPos):\n",
    "    res = np.subtract(currPos,desPos)\n",
    "    if np.array_equal(res, (0,1)):\n",
    "        return Direction.DOWN\n",
    "    if np.array_equal(res, (0,-1)):\n",
    "        return Direction.UP\n",
    "    \n",
    "    if np.array_equal(res, (1,0)):\n",
    "        return Direction.LEFT\n",
    "    \n",
    "    if np.array_equal(res, (-1,0)):\n",
    "        return Direction.RIGHT\n",
    "            \n",
    "class CarAgent(mesa.Agent):\n",
    "    def __init__(self, unique_id, model):\n",
    "        super().__init__(unique_id, model)\n",
    "        self.direction = Direction.NONE\n",
    "        self.desiredPos = (0,0)\n",
    "        self.nextPos = (0,0)\n",
    "    def move(self):\n",
    "        if self.direction == Direction.UP:\n",
    "            self.desiredPos = (self.pos[0],self.pos[1]+1)\n",
    "        if self.direction == Direction.DOWN:\n",
    "            self.desiredPos = (self.pos[0],self.pos[1]-1)\n",
    "\n",
    "        if self.direction == Direction.LEFT:\n",
    "            self.desiredPos = (self.pos[0]-1,self.pos[1])\n",
    "\n",
    "        if self.direction == Direction.RIGHT:\n",
    "             self.desiredPos = (self.pos[0]+1,self.pos[1])\n",
    "    def lights(self,agent):\n",
    "            if agent.greenUp and (self.direction == Direction.UP or self.direction == Direction.DOWN):\n",
    "                self.nextPos = self.desiredPos\n",
    "            elif agent.greenLeft and (self.direction == Direction.LEFT or self.direction == Direction.RIGHT):\n",
    "                self.nextPos = self.desiredPos\n",
    "            else:\n",
    "                self.nextPos = self.pos\n",
    "    \n",
    "                \n",
    "                \n",
    "    def noStraight(self):\n",
    "        neighbors = self.model.gridRoad.get_neighborhood(self.pos, moore = False)\n",
    "        for i in neighbors:\n",
    "            cont = self.model.gridRoad.get_cell_list_contents([i])\n",
    "            if len(cont) == 0:\n",
    "                continue\n",
    "            for j in cont:\n",
    "                if isinstance(j,RoadAgent):\n",
    "                    self.desiredPos = i\n",
    "                    self.direction = findDir(self.pos,i)\n",
    "                    self.nextPos = self.desiredPos\n",
    "\n",
    "                    break\n",
    "                elif isinstance(j,fourWayAgent):\n",
    "                    self.desiredPos = i\n",
    "                    self.direction = findDir(self.pos,i)\n",
    "                    self.lights(j)\n",
    "                    break        \n",
    "                    \n",
    "    def step(self):\n",
    "        self.move()\n",
    "        if self.model.gridRoad.out_of_bounds(self.desiredPos):\n",
    "            self.noStraight()\n",
    "            \n",
    "        contents = self.model.gridRoad.get_cell_list_contents([self.desiredPos])\n",
    "        if len(contents) > 1:\n",
    "            self.nextPos = self.pos\n",
    "        elif len(contents) == 0:\n",
    "            self.noStraight()\n",
    "\n",
    "        elif isinstance(contents[0],fourWayAgent):\n",
    "            self.lights(contents[0])\n",
    "\n",
    "        else:\n",
    "            self.nextPos = self.desiredPos\n",
    "    def advance(self):\n",
    "        print(self.desiredPos)\n",
    "        self.model.gridRoad.move_agent(self, self.nextPos)\n",
    "        "
   ]
  },
  {
   "cell_type": "code",
   "execution_count": 813,
   "metadata": {},
   "outputs": [],
   "source": [
    "#myMap =   [[2, 1, 1, 1, 2, 1, 1, 1, 2],\n",
    "#           [1, 0, 0, 0, 1, 0, 0, 0, 1],\n",
    "#           [1, 0, 0, 0, 1, 0, 0, 0, 1],\n",
    "#           [1, 0, 0, 0, 1, 0, 0, 0, 1],\n",
    "#           [2, 1, 1, 1, 4, 1, 1, 1, 2],\n",
    "#           [1, 0, 0, 0, 1, 0, 0, 0, 1],\n",
    "#           [1, 0, 0, 0, 1, 0, 0, 0, 1],\n",
    "#           [1, 0, 0, 0, 1, 0, 0, 0, 1],\n",
    "#           [1, 1, 1, 1, 2, 1, 1, 1, 2]]\n",
    "myMap = [[0,1,0,0,0],\n",
    "         [0,1,0,0,0],\n",
    "         [1,4,1,1,1],\n",
    "         [0,1,0,0,0]]"
   ]
  },
  {
   "cell_type": "code",
   "execution_count": 814,
   "metadata": {},
   "outputs": [],
   "source": [
    "class RoadModel(mesa.Model):\n",
    "    def __init__(self, roadMap):\n",
    "        #self.num_agents = numberOfCars\n",
    "        self.gridRoad = mesa.space.MultiGrid(len(roadMap), len(roadMap[0]), False)\n",
    "        self.schedule = mesa.time.SimultaneousActivation(self)\n",
    "        self.counter = 0\n",
    "        \n",
    "        # Create agents\n",
    "        for i in range(len(roadMap)):\n",
    "            for j in range(len(roadMap[i])):\n",
    "                if roadMap[i][j] == 1:\n",
    "                    agent = RoadAgent(self.counter, self)\n",
    "                    self.schedule.add(agent)\n",
    "                    self.counter +=1\n",
    "                    self.gridRoad.place_agent(agent,(i,j))\n",
    "                if roadMap[i][j] == 4:\n",
    "                    agent = fourWayAgent(self.counter, self)\n",
    "                    self.schedule.add(agent)\n",
    "                    self.counter +=1\n",
    "                    self.gridRoad.place_agent(agent,(i,j))                    \n",
    "        agent = CarAgent(self.counter, self)\n",
    "        agent.direction = Direction.LEFT\n",
    "        self.schedule.add(agent)\n",
    "        self.counter +=1\n",
    "        self.gridRoad.place_agent(agent,(3,1))\n",
    "        agent = CarAgent(self.counter, self)\n",
    "        agent.direction = Direction.UP\n",
    "        self.schedule.add(agent)\n",
    "        self.counter +=1\n",
    "        self.gridRoad.place_agent(agent,(2,0))\n",
    "    def step(self):\n",
    "        self.schedule.step()"
   ]
  },
  {
   "cell_type": "code",
   "execution_count": null,
   "metadata": {},
   "outputs": [],
   "source": []
  },
  {
   "cell_type": "code",
   "execution_count": 815,
   "metadata": {},
   "outputs": [],
   "source": [
    "#import mesa\n",
    "#\n",
    "#\n",
    "#def agent_portrayal(RoadAgent):\n",
    "#    portrayal = {\"Shape\": \"circle\",\n",
    "#                 \"Filled\": \"true\",\n",
    "#                 \"Layer\": 0,\n",
    "#                 \"Color\": \"red\",\n",
    "#                 \"r\": 0.5}\n",
    "#    return portrayal\n",
    "#model = RoadModel(myMap)\n",
    "#grid = mesa.visualization.CanvasGrid(agent_portrayal, 5, 4, 400, 400)\n",
    "#server = mesa.visualization.ModularServer(RoadModel, [grid], \"Road Model\", {\"roadMap\": myMap})\n",
    "#\n",
    "#server.port = 8501 # The default\n",
    "#server.launch()"
   ]
  },
  {
   "cell_type": "code",
   "execution_count": 816,
   "metadata": {},
   "outputs": [],
   "source": [
    "model = RoadModel(myMap)"
   ]
  },
  {
   "cell_type": "code",
   "execution_count": 817,
   "metadata": {},
   "outputs": [
    {
     "name": "stdout",
     "output_type": "stream",
     "text": [
      "1\n",
      "UP\n",
      "(2, 1)\n",
      "(2, 1)\n",
      "2\n",
      "LEFT\n",
      "(2, 1)\n",
      "(2, 2)\n",
      "1\n",
      "LEFT\n",
      "(2, 1)\n",
      "(2, 3)\n",
      "2\n",
      "UP\n",
      "(1, 1)\n",
      "(2, 4)\n",
      "1\n",
      "UP\n",
      "(0, 1)\n",
      "(2, 3)\n",
      "2\n",
      "LEFT\n",
      "(1, 1)\n",
      "(2, 2)\n",
      "1\n",
      "LEFT\n",
      "(2, 1)\n",
      "(2, 1)\n",
      "2\n",
      "UP\n",
      "(3, 1)\n",
      "(2, 1)\n"
     ]
    }
   ],
   "source": [
    "for i in range(8):\n",
    "    model.step()"
   ]
  },
  {
   "cell_type": "code",
   "execution_count": 811,
   "metadata": {
    "scrolled": true
   },
   "outputs": [
    {
     "name": "stdout",
     "output_type": "stream",
     "text": [
      "2\n",
      "LEFT\n",
      "(2, 1)\n",
      "(2, 4)\n"
     ]
    }
   ],
   "source": [
    "model.step()"
   ]
  },
  {
   "cell_type": "code",
   "execution_count": 818,
   "metadata": {},
   "outputs": [
    {
     "data": {
      "text/plain": [
       "[[], [<__main__.RoadAgent at 0x20b369ab070>], [], [], []]"
      ]
     },
     "metadata": {},
     "output_type": "display_data"
    },
    {
     "data": {
      "text/plain": [
       "[[], [<__main__.RoadAgent at 0x20b369ab0a0>], [], [], []]"
      ]
     },
     "metadata": {},
     "output_type": "display_data"
    },
    {
     "data": {
      "text/plain": [
       "[[<__main__.RoadAgent at 0x20b369abe80>],\n",
       " [<__main__.fourWayAgent at 0x20b369ab5e0>],\n",
       " [<__main__.RoadAgent at 0x20b369ab700>, <__main__.CarAgent at 0x20b369ab5b0>],\n",
       " [<__main__.RoadAgent at 0x20b369ab610>],\n",
       " [<__main__.RoadAgent at 0x20b369ab670>]]"
      ]
     },
     "metadata": {},
     "output_type": "display_data"
    },
    {
     "data": {
      "text/plain": [
       "[[],\n",
       " [<__main__.RoadAgent at 0x20b369abaf0>, <__main__.CarAgent at 0x20b369aba30>],\n",
       " [],\n",
       " [],\n",
       " []]"
      ]
     },
     "metadata": {},
     "output_type": "display_data"
    }
   ],
   "source": [
    "for i in range(4):\n",
    "    display(model.gridRoad[i])"
   ]
  },
  {
   "cell_type": "code",
   "execution_count": 803,
   "metadata": {},
   "outputs": [
    {
     "name": "stdout",
     "output_type": "stream",
     "text": [
      "Direction.LEFT\n",
      "Direction.UP\n"
     ]
    }
   ],
   "source": [
    "for i in model.schedule.agents:\n",
    "    if isinstance(i,CarAgent):\n",
    "        print(i.direction)"
   ]
  },
  {
   "cell_type": "code",
   "execution_count": null,
   "metadata": {},
   "outputs": [],
   "source": []
  },
  {
   "cell_type": "code",
   "execution_count": null,
   "metadata": {},
   "outputs": [],
   "source": []
  }
 ],
 "metadata": {
  "kernelspec": {
   "display_name": "Python 3 (ipykernel)",
   "language": "python",
   "name": "python3"
  },
  "language_info": {
   "codemirror_mode": {
    "name": "ipython",
    "version": 3
   },
   "file_extension": ".py",
   "mimetype": "text/x-python",
   "name": "python",
   "nbconvert_exporter": "python",
   "pygments_lexer": "ipython3",
   "version": "3.9.0"
  }
 },
 "nbformat": 4,
 "nbformat_minor": 1
}
